{
 "cells": [
  {
   "cell_type": "code",
   "execution_count": 1,
   "id": "21c9f616",
   "metadata": {},
   "outputs": [
    {
     "name": "stdout",
     "output_type": "stream",
     "text": [
      "Collecting transformers\n",
      "  Using cached transformers-4.21.0-py3-none-any.whl (4.7 MB)\n",
      "Requirement already satisfied: ipywidgets in ./env/lib/python3.8/site-packages (7.7.1)\n",
      "Collecting gradio\n",
      "  Using cached gradio-3.1.3-py3-none-any.whl (5.6 MB)\n",
      "Collecting tokenizers!=0.11.3,<0.13,>=0.11.1\n",
      "  Using cached tokenizers-0.12.1.tar.gz (220 kB)\n",
      "  Installing build dependencies ... \u001b[?25ldone\n",
      "\u001b[?25h  Getting requirements to build wheel ... \u001b[?25ldone\n",
      "\u001b[?25h  Preparing metadata (pyproject.toml) ... \u001b[?25ldone\n",
      "\u001b[?25hCollecting filelock\n",
      "  Using cached filelock-3.7.1-py3-none-any.whl (10 kB)\n",
      "Requirement already satisfied: tqdm>=4.27 in ./env/lib/python3.8/site-packages (from transformers) (4.64.0)\n",
      "Collecting huggingface-hub<1.0,>=0.1.0\n",
      "  Using cached huggingface_hub-0.8.1-py3-none-any.whl (101 kB)\n",
      "Requirement already satisfied: packaging>=20.0 in ./env/lib/python3.8/site-packages (from transformers) (21.3)\n",
      "Requirement already satisfied: requests in ./env/lib/python3.8/site-packages (from transformers) (2.28.1)\n",
      "Collecting regex!=2019.12.17\n",
      "  Using cached regex-2022.7.25-cp38-cp38-macosx_11_0_arm64.whl (282 kB)\n",
      "Requirement already satisfied: numpy>=1.17 in ./env/lib/python3.8/site-packages (from transformers) (1.23.0)\n",
      "Collecting pyyaml>=5.1\n",
      "  Using cached PyYAML-6.0-cp38-cp38-macosx_11_0_arm64.whl\n",
      "Requirement already satisfied: ipython-genutils~=0.2.0 in ./env/lib/python3.8/site-packages (from ipywidgets) (0.2.0)\n",
      "Requirement already satisfied: ipython>=4.0.0 in ./env/lib/python3.8/site-packages (from ipywidgets) (8.4.0)\n",
      "Requirement already satisfied: traitlets>=4.3.1 in ./env/lib/python3.8/site-packages (from ipywidgets) (5.3.0)\n",
      "Requirement already satisfied: ipykernel>=4.5.1 in ./env/lib/python3.8/site-packages (from ipywidgets) (6.15.0)\n",
      "Requirement already satisfied: jupyterlab-widgets>=1.0.0 in ./env/lib/python3.8/site-packages (from ipywidgets) (1.1.1)\n",
      "Requirement already satisfied: widgetsnbextension~=3.6.0 in ./env/lib/python3.8/site-packages (from ipywidgets) (3.6.1)\n",
      "Collecting fastapi\n",
      "  Using cached fastapi-0.79.0-py3-none-any.whl (54 kB)\n",
      "Collecting analytics-python\n",
      "  Using cached analytics_python-1.4.0-py2.py3-none-any.whl (15 kB)\n",
      "Collecting orjson\n",
      "  Using cached orjson-3.7.11-cp38-cp38-macosx_10_9_x86_64.macosx_11_0_arm64.macosx_10_9_universal2.whl (473 kB)\n",
      "Collecting paramiko\n",
      "  Using cached paramiko-2.11.0-py2.py3-none-any.whl (212 kB)\n",
      "Collecting uvicorn\n",
      "  Using cached uvicorn-0.18.2-py3-none-any.whl (57 kB)\n",
      "Collecting pydantic\n",
      "  Using cached pydantic-1.9.1-cp38-cp38-macosx_11_0_arm64.whl (2.4 MB)\n",
      "Requirement already satisfied: pandas in ./env/lib/python3.8/site-packages (from gradio) (1.4.3)\n",
      "Collecting ffmpy\n",
      "  Using cached ffmpy-0.3.0-py3-none-any.whl\n",
      "Collecting aiohttp\n",
      "  Using cached aiohttp-3.8.1-cp38-cp38-macosx_11_0_arm64.whl (551 kB)\n",
      "Collecting python-multipart\n",
      "  Using cached python_multipart-0.0.5-py3-none-any.whl\n",
      "Requirement already satisfied: Jinja2 in ./env/lib/python3.8/site-packages (from gradio) (3.1.2)\n",
      "Requirement already satisfied: matplotlib in ./env/lib/python3.8/site-packages (from gradio) (3.5.2)\n",
      "Collecting h11<0.13,>=0.11\n",
      "  Using cached h11-0.12.0-py3-none-any.whl (54 kB)\n",
      "Collecting markdown-it-py[linkify,plugins]\n",
      "  Using cached markdown_it_py-2.1.0-py3-none-any.whl (84 kB)\n",
      "Requirement already satisfied: pillow in ./env/lib/python3.8/site-packages (from gradio) (9.2.0)\n",
      "Collecting httpx\n",
      "  Using cached httpx-0.23.0-py3-none-any.whl (84 kB)\n",
      "Collecting fsspec\n",
      "  Using cached fsspec-2022.7.1-py3-none-any.whl (141 kB)\n",
      "Collecting pycryptodome\n",
      "  Using cached pycryptodome-3.15.0-cp35-abi3-macosx_11_0_arm64.whl\n",
      "Collecting pydub\n",
      "  Using cached pydub-0.25.1-py2.py3-none-any.whl (32 kB)\n",
      "Requirement already satisfied: typing-extensions>=3.7.4.3 in ./env/lib/python3.8/site-packages (from huggingface-hub<1.0,>=0.1.0->transformers) (4.3.0)\n",
      "Requirement already satisfied: nest-asyncio in ./env/lib/python3.8/site-packages (from ipykernel>=4.5.1->ipywidgets) (1.5.5)\n",
      "Requirement already satisfied: tornado>=6.1 in ./env/lib/python3.8/site-packages (from ipykernel>=4.5.1->ipywidgets) (6.1)\n",
      "Requirement already satisfied: jupyter-client>=6.1.12 in ./env/lib/python3.8/site-packages (from ipykernel>=4.5.1->ipywidgets) (7.3.4)\n",
      "Requirement already satisfied: matplotlib-inline>=0.1 in ./env/lib/python3.8/site-packages (from ipykernel>=4.5.1->ipywidgets) (0.1.3)\n",
      "Requirement already satisfied: appnope in ./env/lib/python3.8/site-packages (from ipykernel>=4.5.1->ipywidgets) (0.1.3)\n",
      "Requirement already satisfied: psutil in ./env/lib/python3.8/site-packages (from ipykernel>=4.5.1->ipywidgets) (5.9.1)\n",
      "Requirement already satisfied: pyzmq>=17 in ./env/lib/python3.8/site-packages (from ipykernel>=4.5.1->ipywidgets) (23.2.0)\n",
      "Requirement already satisfied: debugpy>=1.0 in ./env/lib/python3.8/site-packages (from ipykernel>=4.5.1->ipywidgets) (1.6.0)\n",
      "Requirement already satisfied: pickleshare in ./env/lib/python3.8/site-packages (from ipython>=4.0.0->ipywidgets) (0.7.5)\n",
      "Requirement already satisfied: decorator in ./env/lib/python3.8/site-packages (from ipython>=4.0.0->ipywidgets) (5.1.1)\n",
      "Requirement already satisfied: pexpect>4.3 in ./env/lib/python3.8/site-packages (from ipython>=4.0.0->ipywidgets) (4.8.0)\n",
      "Requirement already satisfied: stack-data in ./env/lib/python3.8/site-packages (from ipython>=4.0.0->ipywidgets) (0.3.0)\n",
      "Requirement already satisfied: pygments>=2.4.0 in ./env/lib/python3.8/site-packages (from ipython>=4.0.0->ipywidgets) (2.12.0)\n",
      "Requirement already satisfied: setuptools>=18.5 in ./env/lib/python3.8/site-packages (from ipython>=4.0.0->ipywidgets) (62.6.0)\n",
      "Requirement already satisfied: prompt-toolkit!=3.0.0,!=3.0.1,<3.1.0,>=2.0.0 in ./env/lib/python3.8/site-packages (from ipython>=4.0.0->ipywidgets) (3.0.30)\n",
      "Requirement already satisfied: jedi>=0.16 in ./env/lib/python3.8/site-packages (from ipython>=4.0.0->ipywidgets) (0.18.1)\n",
      "Requirement already satisfied: backcall in ./env/lib/python3.8/site-packages (from ipython>=4.0.0->ipywidgets) (0.2.0)\n",
      "Requirement already satisfied: pyparsing!=3.0.5,>=2.0.2 in ./env/lib/python3.8/site-packages (from packaging>=20.0->transformers) (3.0.9)\n",
      "Requirement already satisfied: notebook>=4.4.1 in ./env/lib/python3.8/site-packages (from widgetsnbextension~=3.6.0->ipywidgets) (6.4.12)\n",
      "Collecting yarl<2.0,>=1.0\n",
      "  Using cached yarl-1.8.1-cp38-cp38-macosx_11_0_arm64.whl (57 kB)\n",
      "Requirement already satisfied: charset-normalizer<3.0,>=2.0 in ./env/lib/python3.8/site-packages (from aiohttp->gradio) (2.1.0)\n",
      "Requirement already satisfied: attrs>=17.3.0 in ./env/lib/python3.8/site-packages (from aiohttp->gradio) (21.4.0)\n",
      "Collecting multidict<7.0,>=4.5\n",
      "  Using cached multidict-6.0.2-cp38-cp38-macosx_11_0_arm64.whl (29 kB)\n",
      "Collecting frozenlist>=1.1.1\n",
      "  Using cached frozenlist-1.3.1-cp38-cp38-macosx_11_0_arm64.whl (35 kB)\n",
      "Collecting aiosignal>=1.1.2\n",
      "  Using cached aiosignal-1.2.0-py3-none-any.whl (8.2 kB)\n",
      "Collecting async-timeout<5.0,>=4.0.0a3\n",
      "  Using cached async_timeout-4.0.2-py3-none-any.whl (5.8 kB)\n",
      "Requirement already satisfied: six>=1.5 in ./env/lib/python3.8/site-packages (from analytics-python->gradio) (1.16.0)\n",
      "Collecting backoff==1.10.0\n",
      "  Using cached backoff-1.10.0-py2.py3-none-any.whl (31 kB)\n",
      "Requirement already satisfied: python-dateutil>2.1 in ./env/lib/python3.8/site-packages (from analytics-python->gradio) (2.8.2)\n",
      "Collecting monotonic>=1.5\n",
      "  Using cached monotonic-1.6-py2.py3-none-any.whl (8.2 kB)\n",
      "Requirement already satisfied: certifi>=2017.4.17 in ./env/lib/python3.8/site-packages (from requests->transformers) (2022.6.15)\n",
      "Requirement already satisfied: urllib3<1.27,>=1.21.1 in ./env/lib/python3.8/site-packages (from requests->transformers) (1.26.9)\n",
      "Requirement already satisfied: idna<4,>=2.5 in ./env/lib/python3.8/site-packages (from requests->transformers) (3.3)\n",
      "Collecting starlette==0.19.1\n",
      "  Using cached starlette-0.19.1-py3-none-any.whl (63 kB)\n",
      "Collecting anyio<5,>=3.4.0\n",
      "  Using cached anyio-3.6.1-py3-none-any.whl (80 kB)\n",
      "Collecting sniffio\n",
      "  Using cached sniffio-1.2.0-py3-none-any.whl (10 kB)\n",
      "Collecting httpcore<0.16.0,>=0.15.0\n",
      "  Using cached httpcore-0.15.0-py3-none-any.whl (68 kB)\n",
      "Collecting rfc3986[idna2008]<2,>=1.3\n",
      "  Using cached rfc3986-1.5.0-py2.py3-none-any.whl (31 kB)\n",
      "Requirement already satisfied: MarkupSafe>=2.0 in ./env/lib/python3.8/site-packages (from Jinja2->gradio) (2.1.1)\n"
     ]
    },
    {
     "name": "stdout",
     "output_type": "stream",
     "text": [
      "Collecting mdurl~=0.1\n",
      "  Using cached mdurl-0.1.1-py3-none-any.whl (10 kB)\n",
      "Collecting mdit-py-plugins\n",
      "  Using cached mdit_py_plugins-0.3.0-py3-none-any.whl (43 kB)\n",
      "Collecting linkify-it-py~=1.0\n",
      "  Using cached linkify_it_py-1.0.3-py3-none-any.whl (19 kB)\n",
      "Requirement already satisfied: cycler>=0.10 in ./env/lib/python3.8/site-packages (from matplotlib->gradio) (0.11.0)\n",
      "Requirement already satisfied: kiwisolver>=1.0.1 in ./env/lib/python3.8/site-packages (from matplotlib->gradio) (1.4.3)\n",
      "Requirement already satisfied: fonttools>=4.22.0 in ./env/lib/python3.8/site-packages (from matplotlib->gradio) (4.33.3)\n",
      "Requirement already satisfied: pytz>=2020.1 in ./env/lib/python3.8/site-packages (from pandas->gradio) (2022.1)\n",
      "Collecting pynacl>=1.0.1\n",
      "  Using cached PyNaCl-1.5.0-cp36-abi3-macosx_10_10_universal2.whl (349 kB)\n",
      "Collecting bcrypt>=3.1.3\n",
      "  Using cached bcrypt-3.2.2-cp36-abi3-macosx_10_10_universal2.whl (50 kB)\n",
      "Collecting cryptography>=2.5\n",
      "  Using cached cryptography-37.0.4-cp36-abi3-macosx_10_10_universal2.whl (5.4 MB)\n",
      "Collecting click>=7.0\n",
      "  Using cached click-8.1.3-py3-none-any.whl (96 kB)\n",
      "Requirement already satisfied: cffi>=1.1 in ./env/lib/python3.8/site-packages (from bcrypt>=3.1.3->paramiko->gradio) (1.15.1)\n",
      "Requirement already satisfied: parso<0.9.0,>=0.8.0 in ./env/lib/python3.8/site-packages (from jedi>=0.16->ipython>=4.0.0->ipywidgets) (0.8.3)\n",
      "Requirement already satisfied: jupyter-core>=4.9.2 in ./env/lib/python3.8/site-packages (from jupyter-client>=6.1.12->ipykernel>=4.5.1->ipywidgets) (4.10.0)\n",
      "Requirement already satisfied: entrypoints in ./env/lib/python3.8/site-packages (from jupyter-client>=6.1.12->ipykernel>=4.5.1->ipywidgets) (0.4)\n",
      "Collecting uc-micro-py\n",
      "  Using cached uc_micro_py-1.0.1-py3-none-any.whl (6.2 kB)\n",
      "Requirement already satisfied: nbformat in ./env/lib/python3.8/site-packages (from notebook>=4.4.1->widgetsnbextension~=3.6.0->ipywidgets) (5.4.0)\n",
      "Requirement already satisfied: nbconvert>=5 in ./env/lib/python3.8/site-packages (from notebook>=4.4.1->widgetsnbextension~=3.6.0->ipywidgets) (6.4.5)\n",
      "Requirement already satisfied: Send2Trash>=1.8.0 in ./env/lib/python3.8/site-packages (from notebook>=4.4.1->widgetsnbextension~=3.6.0->ipywidgets) (1.8.0)\n",
      "Requirement already satisfied: prometheus-client in ./env/lib/python3.8/site-packages (from notebook>=4.4.1->widgetsnbextension~=3.6.0->ipywidgets) (0.14.1)\n",
      "Requirement already satisfied: argon2-cffi in ./env/lib/python3.8/site-packages (from notebook>=4.4.1->widgetsnbextension~=3.6.0->ipywidgets) (21.3.0)\n",
      "Requirement already satisfied: terminado>=0.8.3 in ./env/lib/python3.8/site-packages (from notebook>=4.4.1->widgetsnbextension~=3.6.0->ipywidgets) (0.15.0)\n",
      "Requirement already satisfied: ptyprocess>=0.5 in ./env/lib/python3.8/site-packages (from pexpect>4.3->ipython>=4.0.0->ipywidgets) (0.7.0)\n",
      "Requirement already satisfied: wcwidth in ./env/lib/python3.8/site-packages (from prompt-toolkit!=3.0.0,!=3.0.1,<3.1.0,>=2.0.0->ipython>=4.0.0->ipywidgets) (0.2.5)\n",
      "Requirement already satisfied: pure-eval in ./env/lib/python3.8/site-packages (from stack-data->ipython>=4.0.0->ipywidgets) (0.2.2)\n",
      "Requirement already satisfied: executing in ./env/lib/python3.8/site-packages (from stack-data->ipython>=4.0.0->ipywidgets) (0.8.3)\n",
      "Requirement already satisfied: asttokens in ./env/lib/python3.8/site-packages (from stack-data->ipython>=4.0.0->ipywidgets) (2.0.5)\n",
      "Requirement already satisfied: pycparser in ./env/lib/python3.8/site-packages (from cffi>=1.1->bcrypt>=3.1.3->paramiko->gradio) (2.21)\n",
      "Requirement already satisfied: mistune<2,>=0.8.1 in ./env/lib/python3.8/site-packages (from nbconvert>=5->notebook>=4.4.1->widgetsnbextension~=3.6.0->ipywidgets) (0.8.4)\n",
      "Requirement already satisfied: defusedxml in ./env/lib/python3.8/site-packages (from nbconvert>=5->notebook>=4.4.1->widgetsnbextension~=3.6.0->ipywidgets) (0.7.1)\n",
      "Requirement already satisfied: testpath in ./env/lib/python3.8/site-packages (from nbconvert>=5->notebook>=4.4.1->widgetsnbextension~=3.6.0->ipywidgets) (0.6.0)\n",
      "Requirement already satisfied: beautifulsoup4 in ./env/lib/python3.8/site-packages (from nbconvert>=5->notebook>=4.4.1->widgetsnbextension~=3.6.0->ipywidgets) (4.11.1)\n",
      "Requirement already satisfied: pandocfilters>=1.4.1 in ./env/lib/python3.8/site-packages (from nbconvert>=5->notebook>=4.4.1->widgetsnbextension~=3.6.0->ipywidgets) (1.5.0)\n",
      "Requirement already satisfied: bleach in ./env/lib/python3.8/site-packages (from nbconvert>=5->notebook>=4.4.1->widgetsnbextension~=3.6.0->ipywidgets) (5.0.1)\n",
      "Requirement already satisfied: nbclient<0.6.0,>=0.5.0 in ./env/lib/python3.8/site-packages (from nbconvert>=5->notebook>=4.4.1->widgetsnbextension~=3.6.0->ipywidgets) (0.5.13)\n",
      "Requirement already satisfied: jupyterlab-pygments in ./env/lib/python3.8/site-packages (from nbconvert>=5->notebook>=4.4.1->widgetsnbextension~=3.6.0->ipywidgets) (0.2.2)\n",
      "Requirement already satisfied: jsonschema>=2.6 in ./env/lib/python3.8/site-packages (from nbformat->notebook>=4.4.1->widgetsnbextension~=3.6.0->ipywidgets) (4.6.1)\n",
      "Requirement already satisfied: fastjsonschema in ./env/lib/python3.8/site-packages (from nbformat->notebook>=4.4.1->widgetsnbextension~=3.6.0->ipywidgets) (2.15.3)\n",
      "Requirement already satisfied: argon2-cffi-bindings in ./env/lib/python3.8/site-packages (from argon2-cffi->notebook>=4.4.1->widgetsnbextension~=3.6.0->ipywidgets) (21.2.0)\n",
      "Requirement already satisfied: pyrsistent!=0.17.0,!=0.17.1,!=0.17.2,>=0.14.0 in ./env/lib/python3.8/site-packages (from jsonschema>=2.6->nbformat->notebook>=4.4.1->widgetsnbextension~=3.6.0->ipywidgets) (0.18.1)\n",
      "Requirement already satisfied: importlib-resources>=1.4.0 in ./env/lib/python3.8/site-packages (from jsonschema>=2.6->nbformat->notebook>=4.4.1->widgetsnbextension~=3.6.0->ipywidgets) (5.8.0)\n",
      "Requirement already satisfied: soupsieve>1.2 in ./env/lib/python3.8/site-packages (from beautifulsoup4->nbconvert>=5->notebook>=4.4.1->widgetsnbextension~=3.6.0->ipywidgets) (2.3.1)\n",
      "Requirement already satisfied: webencodings in ./env/lib/python3.8/site-packages (from bleach->nbconvert>=5->notebook>=4.4.1->widgetsnbextension~=3.6.0->ipywidgets) (0.5.1)\n",
      "Requirement already satisfied: zipp>=3.1.0 in ./env/lib/python3.8/site-packages (from importlib-resources>=1.4.0->jsonschema>=2.6->nbformat->notebook>=4.4.1->widgetsnbextension~=3.6.0->ipywidgets) (3.8.0)\n",
      "Building wheels for collected packages: tokenizers\n",
      "  Building wheel for tokenizers (pyproject.toml) ... \u001b[?25ldone\n",
      "\u001b[?25h  Created wheel for tokenizers: filename=tokenizers-0.12.1-cp38-cp38-macosx_11_0_arm64.whl size=3552396 sha256=9dcd5ac7085ba9d355878b7772ddc3befcf83a1a846863d1ffc9b3b69334294c\n",
      "  Stored in directory: /Users/amrsaad/Library/Caches/pip/wheels/a4/dd/ca/b9d8038f6ce0176e86def38c76da87be00b7b3a230c1d6fd76\n",
      "Successfully built tokenizers\n",
      "Installing collected packages: tokenizers, rfc3986, pydub, monotonic, ffmpy, uc-micro-py, sniffio, regex, pyyaml, python-multipart, pydantic, pycryptodome, orjson, multidict, mdurl, h11, fsspec, frozenlist, filelock, click, backoff, async-timeout, yarl, uvicorn, pynacl, markdown-it-py, linkify-it-py, huggingface-hub, cryptography, bcrypt, anyio, analytics-python, aiosignal, transformers, starlette, paramiko, mdit-py-plugins, httpcore, aiohttp, httpx, fastapi, gradio\n",
      "Successfully installed aiohttp-3.8.1 aiosignal-1.2.0 analytics-python-1.4.0 anyio-3.6.1 async-timeout-4.0.2 backoff-1.10.0 bcrypt-3.2.2 click-8.1.3 cryptography-37.0.4 fastapi-0.79.0 ffmpy-0.3.0 filelock-3.7.1 frozenlist-1.3.1 fsspec-2022.7.1 gradio-3.1.3 h11-0.12.0 httpcore-0.15.0 httpx-0.23.0 huggingface-hub-0.8.1 linkify-it-py-1.0.3 markdown-it-py-2.1.0 mdit-py-plugins-0.3.0 mdurl-0.1.1 monotonic-1.6 multidict-6.0.2 orjson-3.7.11 paramiko-2.11.0 pycryptodome-3.15.0 pydantic-1.9.1 pydub-0.25.1 pynacl-1.5.0 python-multipart-0.0.5 pyyaml-6.0 regex-2022.7.25 rfc3986-1.5.0 sniffio-1.2.0 starlette-0.19.1 tokenizers-0.12.1 transformers-4.21.0 uc-micro-py-1.0.1 uvicorn-0.18.2 yarl-1.8.1\n"
     ]
    }
   ],
   "source": [
    "!pip install transformers ipywidgets gradio "
   ]
  },
  {
   "cell_type": "code",
   "execution_count": 24,
   "id": "84c05920",
   "metadata": {},
   "outputs": [],
   "source": [
    "import gradio as gr                   # UI library\n",
    "from transformers import pipeline     # Transformers pipeline"
   ]
  },
  {
   "cell_type": "code",
   "execution_count": 25,
   "id": "d9be3616",
   "metadata": {},
   "outputs": [
    {
     "name": "stderr",
     "output_type": "stream",
     "text": [
      "No model was supplied, defaulted to t5-base and revision 686f1db (https://huggingface.co/t5-base).\n",
      "Using a pipeline without specifying a model name and revision in production is not recommended.\n"
     ]
    }
   ],
   "source": [
    "translation_pipe = pipeline('translation_en_to_fr') #Loading Pipeline"
   ]
  },
  {
   "cell_type": "code",
   "execution_count": 26,
   "id": "c48c70cd",
   "metadata": {},
   "outputs": [],
   "source": [
    "def translate(text): #Gradio Function\n",
    "    return translation_pipe(text)[0]['translation_text']\n",
    "    \n",
    "    "
   ]
  },
  {
   "cell_type": "code",
   "execution_count": 30,
   "id": "bf69495a",
   "metadata": {},
   "outputs": [],
   "source": [
    "ui = gr.Interface(fn=translate, inputs=gr.inputs.Textbox(lines=2, placeholder='Text to translate'),\n",
    "                        outputs='text') #passing the function to gradio interface"
   ]
  },
  {
   "cell_type": "code",
   "execution_count": 32,
   "id": "99d09b14",
   "metadata": {},
   "outputs": [
    {
     "name": "stdout",
     "output_type": "stream",
     "text": [
      "Running on local URL:  http://127.0.0.1:7860/\n",
      "\n",
      "To create a public link, set `share=True` in `launch()`.\n"
     ]
    },
    {
     "data": {
      "text/html": [
       "<div><iframe src=\"http://127.0.0.1:7860/\" width=\"900\" height=\"500\" allow=\"autoplay; camera; microphone;\" frameborder=\"0\" allowfullscreen></iframe></div>"
      ],
      "text/plain": [
       "<IPython.core.display.HTML object>"
      ]
     },
     "metadata": {},
     "output_type": "display_data"
    },
    {
     "data": {
      "text/plain": [
       "(<gradio.routes.App at 0x14fb9eca0>, 'http://127.0.0.1:7860/', None)"
      ]
     },
     "execution_count": 32,
     "metadata": {},
     "output_type": "execute_result"
    }
   ],
   "source": [
    "ui.launch() #launching app"
   ]
  },
  {
   "cell_type": "code",
   "execution_count": null,
   "id": "7596cdc6",
   "metadata": {},
   "outputs": [],
   "source": []
  }
 ],
 "metadata": {
  "kernelspec": {
   "display_name": "Python 3 (ipykernel)",
   "language": "python",
   "name": "python3"
  },
  "language_info": {
   "codemirror_mode": {
    "name": "ipython",
    "version": 3
   },
   "file_extension": ".py",
   "mimetype": "text/x-python",
   "name": "python",
   "nbconvert_exporter": "python",
   "pygments_lexer": "ipython3",
   "version": "3.8.13"
  }
 },
 "nbformat": 4,
 "nbformat_minor": 5
}
